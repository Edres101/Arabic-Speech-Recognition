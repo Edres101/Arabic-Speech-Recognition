{
  "nbformat": 4,
  "nbformat_minor": 0,
  "metadata": {
    "accelerator": "GPU",
    "colab": {
      "name": "Arabic Speech Recognition.ipynb",
      "provenance": []
    },
    "kernelspec": {
      "display_name": "Python 3",
      "language": "python",
      "name": "python3"
    },
    "language_info": {
      "codemirror_mode": {
        "name": "ipython",
        "version": 3
      },
      "file_extension": ".py",
      "mimetype": "text/x-python",
      "name": "python",
      "nbconvert_exporter": "python",
      "pygments_lexer": "ipython3",
      "version": "3.8.3-final"
    }
  },
  "cells": [
    {
      "cell_type": "markdown",
      "metadata": {
        "id": "gVXNjDIjd1wP"
      },
      "source": [
        "**importing the libraries**"
      ]
    },
    {
      "cell_type": "code",
      "metadata": {
        "id": "GzP4iF3vG3cL"
      },
      "source": [
        "import csv\n",
        "import io\n",
        "import os\n",
        "import re\n",
        "import string\n",
        "import numpy as np\n",
        "import pandas as pd\n",
        "import tensorflow as tf\n",
        "from tensorflow import keras\n",
        "import matplotlib.pyplot as plt\n",
        "from sklearn.model_selection import train_test_split\n",
        "from tensorflow.keras.models import Model, Sequential, load_model\n",
        "from tensorflow.keras.layers import LSTM, Embedding, Input, Dense, Bidirectional, BatchNormalization, Conv1D, Conv2D, MaxPool1D, MaxPooling1D, MaxPooling2D, Dropout, Flatten, TimeDistributed\n",
        "from tensorflow.keras.layers.experimental import preprocessing\n",
        "from tensorflow.keras.preprocessing.text import Tokenizer\n",
        "from tensorflow.keras.preprocessing.sequence import pad_sequences\n",
        "from tensorflow.keras import regularizers\n",
        "from tensorflow.keras.preprocessing.text import Tokenizer\n",
        "from tensorflow.keras.preprocessing.sequence import pad_sequences\n"
      ],
      "execution_count": null,
      "outputs": []
    },
    {
      "cell_type": "markdown",
      "metadata": {
        "id": "8gTNuVl2eDcz"
      },
      "source": [
        "**Reading the dataset**"
      ]
    },
    {
      "cell_type": "code",
      "metadata": {
        "colab": {
          "base_uri": "https://localhost:8080/"
        },
        "id": "zVWh8uNnHkfm",
        "outputId": "16e0ce67-c193-465a-df39-ffaa091413ad"
      },
      "source": [
        "from google.colab import drive\n",
        "drive.mount('/content/drive')"
      ],
      "execution_count": null,
      "outputs": [
        {
          "output_type": "stream",
          "text": [
            "Mounted at /content/drive\n"
          ],
          "name": "stdout"
        }
      ]
    },
    {
      "cell_type": "markdown",
      "metadata": {
        "id": "mZjOlirLpOij"
      },
      "source": [
        "**Data** **Preprocessing**"
      ]
    },
    {
      "cell_type": "code",
      "metadata": {
        "colab": {
          "background_save": true
        },
        "id": "mBdMacEaArFc"
      },
      "source": [
        "# device_name = tf.test.gpu_device_name()\n",
        "# if device_name != '/device:GPU:0':\n",
        "#   raise SystemError('GPU device not found')\n",
        "# print('Found GPU at: {}'.format(device_name))\n",
        "\n",
        "\n",
        "def gpu():\n",
        "\n",
        "  def preprocessing():\n",
        "\n",
        "    data = []\n",
        "    data_without_linespace = []\n",
        "    data_without_space = []\n",
        "    data_without_space2 = []\n",
        "    data_without_xmin = []\n",
        "    data_without_xmax = []\n",
        "    data_without_text = []\n",
        "    data_without_symbols = []\n",
        "    new_data = []\n",
        "      \n",
        "    folder_path='/content/drive/MyDrive/FYP I/arabic-speech-corpus/textgrid/'\n",
        "    folder = os.scandir('/content/drive/MyDrive/FYP I/arabic-speech-corpus/textgrid')\n",
        "\n",
        "    for i in folder:\n",
        "      '''reading the file from the above path'''\n",
        "      print(i.name)\n",
        "\n",
        "      file_path=folder_path+i.name\n",
        "      f = open(file_path, 'r', encoding='utf-8')\n",
        "\n",
        "\n",
        "\n",
        "      for i in range(10000):\n",
        "        '''reading the data and storing it into the array'''\n",
        "        x = f.readline()\n",
        "        if x == '':\n",
        "          continue\n",
        "        data.append(x)\n",
        "\n",
        "\n",
        "\n",
        "      for i in data:\n",
        "        '''removing the linespace from the data'''\n",
        "        k = i.replace('\\n', '')\n",
        "        data_without_linespace.append(k)\n",
        "\n",
        "\n",
        "\n",
        "      for i in data_without_linespace:\n",
        "        '''removing the space from the data'''\n",
        "        z = re.sub(r'^\\s+|\\s+$', '', i)\n",
        "        data_without_space.append(z)\n",
        "\n",
        "\n",
        "\n",
        "        '''determining the item[2] and removing \n",
        "        all the elements of it into new array'''\n",
        "      el = 'item [2]:'\n",
        "      em = 'item [3]:'\n",
        "\n",
        "      item2 = data_without_space.index(el)\n",
        "\n",
        "      if em in data_without_space:\n",
        "        item3 = data_without_space.index(em)\n",
        "        new_list = np.array(data_without_space[item2+6:item3])\n",
        "\n",
        "      else:\n",
        "        new_list = np.array(data_without_space[item2+6:])\n",
        "\n",
        "\n",
        "\n",
        "\n",
        "\n",
        "\n",
        "      for i in new_list:\n",
        "        '''removing the \"xmin =\" word from the data'''\n",
        "        _ = i.replace('xmin =', '')\n",
        "        data_without_xmin.append(_)\n",
        "\n",
        "\n",
        "\n",
        "      for i in data_without_xmin:\n",
        "        '''removing the \"xman =\" word from the data'''\n",
        "        a = i.replace('xmax =', '')\n",
        "        data_without_xmax.append(a)\n",
        "\n",
        "\n",
        "\n",
        "      for i in data_without_xmax:\n",
        "        '''removing the \"xman =\" word from the data'''\n",
        "        b = i.replace('text =', '')\n",
        "        data_without_text.append(b)\n",
        "\n",
        "\n",
        "\n",
        "      for i in data_without_text:\n",
        "        '''removing the punctuation from the data'''\n",
        "        punc=r'[!\"#$%&\\'-()*+,/:;<=>?@[\\]^_`{|}~]'\n",
        "        c = re.sub(punc, '', i)\n",
        "        data_without_symbols.append(c)\n",
        "\n",
        "\n",
        "\n",
        "      for i in data_without_symbols:\n",
        "        '''removing the space from the data'''\n",
        "        z = re.sub(r'^\\s+|\\s+$', '', i)\n",
        "        data_without_space2.append(z)\n",
        "\n",
        "\n",
        "      '''resahping the array'''\n",
        "      reshaped = np.reshape(data_without_space2, (-1, 4))\n",
        "      print(reshaped)\n",
        "\n",
        "      for i in reshaped:\n",
        "        '''appending each array after reshaping them \n",
        "          into new array to be ready for modelling'''\n",
        "        new_data.append(i)\n",
        "\n",
        "\n",
        "      '''making the arrays empty for the next file for preprocessing'''\n",
        "      data = []\n",
        "      data_without_linespace = []\n",
        "      data_without_space = []\n",
        "      data_without_space2 = []\n",
        "      data_without_xmin = []\n",
        "      data_without_xmax = []\n",
        "      data_without_text = []\n",
        "      data_without_symbols = []\n",
        "\n",
        "\n",
        "\n",
        "\n",
        "\n",
        "    '''crating the head for the new data file'''\n",
        "    fields = ['Interval', 'xmin', 'xmax', 'word']\n",
        "\n",
        "    with open('data.csv', 'w') as f:\n",
        "      '''using csv.writer method from CSV package'''\n",
        "      write = csv.writer(f)\n",
        "      \n",
        "      write.writerow(fields)\n",
        "      write.writerows(new_data)\n",
        "\n",
        "  return preprocessing()\n",
        "\n",
        "gpu()"
      ],
      "execution_count": null,
      "outputs": []
    },
    {
      "cell_type": "markdown",
      "metadata": {
        "id": "UKN-uQ7jePw2"
      },
      "source": [
        "**Spliting and Tokenizing the database**"
      ]
    },
    {
      "cell_type": "code",
      "metadata": {
        "colab": {
          "base_uri": "https://localhost:8080/"
        },
        "id": "EmVTGHzKqGDc",
        "outputId": "4be00724-bd26-4f61-c5e6-6b1b3055d5c8"
      },
      "source": [
        "path = '/content/drive/MyDrive/FYP I/data.csv'\n",
        "\n",
        "df = pd.read_csv(path)\n",
        "\n",
        "x, y = df.iloc[:,1:3], df.iloc[:,-1]\n",
        "x = np.array(x.astype(float))\n",
        "y = np.array(y.astype(str))\n",
        "\n",
        "\n",
        "print(x.dtype)\n",
        "print(y.dtype)\n",
        "\n",
        "\n",
        "\n",
        "vocab_size = 21425\n",
        "embedding_dim = 16\n",
        "max_length = 7606\n",
        "pad_type='post'\n",
        "trunc_type='post'\n",
        "\n",
        "\n",
        "tokenizer = Tokenizer()\n",
        "tokenizer.fit_on_texts(y)\n",
        "word_index = tokenizer.word_index\n",
        "total_words=len(word_index)\n",
        "sequences = tokenizer.texts_to_sequences(y)\n",
        "padded = pad_sequences(sequences, maxlen= max_length, padding= pad_type, truncating= trunc_type)\n"
      ],
      "execution_count": null,
      "outputs": [
        {
          "output_type": "stream",
          "text": [
            "float64\n",
            "object\n"
          ],
          "name": "stdout"
        }
      ]
    },
    {
      "cell_type": "code",
      "metadata": {
        "id": "X3WpNQRMqtFa"
      },
      "source": [
        "x_train, x_test, y_train, y_test = train_test_split(x, padded, test_size=0.2)"
      ],
      "execution_count": null,
      "outputs": []
    },
    {
      "cell_type": "code",
      "metadata": {
        "colab": {
          "base_uri": "https://localhost:8080/"
        },
        "id": "pH_ARWxVrhZh",
        "outputId": "19a7475d-78f7-4de2-8b5b-a1d1109e044c"
      },
      "source": [
        "print(x_train.shape)\n",
        "print(y_train.shape)\n",
        "print(len(y_train))"
      ],
      "execution_count": null,
      "outputs": [
        {
          "output_type": "stream",
          "text": [
            "(17140, 2)\n",
            "(17140, 7606)\n",
            "17140\n"
          ],
          "name": "stdout"
        }
      ]
    },
    {
      "cell_type": "markdown",
      "metadata": {
        "id": "GyxQgtfRfBqm"
      },
      "source": [
        "\n",
        "\n",
        "---\n",
        "\n"
      ]
    },
    {
      "cell_type": "markdown",
      "metadata": {
        "id": "Q1cgfBdve8R0"
      },
      "source": [
        "# Modeling"
      ]
    },
    {
      "cell_type": "markdown",
      "metadata": {
        "id": "nvA7kQOhsT_g"
      },
      "source": [
        "**RNN Model**"
      ]
    },
    {
      "cell_type": "code",
      "metadata": {
        "colab": {
          "base_uri": "https://localhost:8080/"
        },
        "id": "ioh_k3HtqxvU",
        "outputId": "7b546bf2-cd3c-4bfa-93ed-e6ab9e9417dc"
      },
      "source": [
        "model = Sequential()\n",
        "model.add(Embedding(total_words, 100, input_length=total_words))\n",
        "model.add(Bidirectional(LSTM(150, return_sequences = True)))\n",
        "model.add(Dropout(0.5))\n",
        "model.add(LSTM(100))\n",
        "model.add(Dense(total_words/2, activation='relu', kernel_regularizer=regularizers.l2(0.01)))\n",
        "model.add(Dropout(0.5))\n",
        "model.add(Dense(total_words, activation='softmax'))\n",
        "\n",
        "model.compile(loss='categorical_crossentropy', optimizer='adam', metrics=['accuracy'])\n",
        "print(model.summary())"
      ],
      "execution_count": null,
      "outputs": [
        {
          "output_type": "stream",
          "text": [
            "Model: \"sequential_2\"\n",
            "_________________________________________________________________\n",
            "Layer (type)                 Output Shape              Param #   \n",
            "=================================================================\n",
            "embedding_1 (Embedding)      (None, 7606, 100)         760600    \n",
            "_________________________________________________________________\n",
            "bidirectional_1 (Bidirection (None, 7606, 300)         301200    \n",
            "_________________________________________________________________\n",
            "dropout_8 (Dropout)          (None, 7606, 300)         0         \n",
            "_________________________________________________________________\n",
            "lstm_3 (LSTM)                (None, 100)               160400    \n",
            "_________________________________________________________________\n",
            "dense_9 (Dense)              (None, 3803)              384103    \n",
            "_________________________________________________________________\n",
            "dropout_9 (Dropout)          (None, 3803)              0         \n",
            "_________________________________________________________________\n",
            "dense_10 (Dense)             (None, 7606)              28933224  \n",
            "=================================================================\n",
            "Total params: 30,539,527\n",
            "Trainable params: 30,539,527\n",
            "Non-trainable params: 0\n",
            "_________________________________________________________________\n",
            "None\n"
          ],
          "name": "stdout"
        }
      ]
    },
    {
      "cell_type": "code",
      "metadata": {
        "id": "Wf3LZpoYfV_5"
      },
      "source": [
        "callbacks = tf.keras.callbacks.EarlyStopping(\n",
        "                                            # Stop training when `loss` is no longer improving\n",
        "                                            monitor='loss',\n",
        "                                            # \"no longer improving\" being further defined as \"for at least 2 epochs\"\n",
        "                                            patience=2,\n",
        "                                            restore_best_weights=True,\n",
        "                                             verbose=1)"
      ],
      "execution_count": null,
      "outputs": []
    },
    {
      "cell_type": "markdown",
      "metadata": {
        "id": "zQ6bDOIwgzQ4"
      },
      "source": [
        "**Fiting the Model**"
      ]
    },
    {
      "cell_type": "code",
      "metadata": {
        "id": "b5EG1p_HfXEo"
      },
      "source": [
        "# this is the best fitting into the model.\n",
        "def gpu():\n",
        "  history = model.fit(x_train, y_train,\n",
        "                      batch_size=64,\n",
        "                      steps_per_epoch=10,\n",
        "                      epochs=10,\n",
        "                      # validation_data=(x_test, y_test),\n",
        "                      callbacks=callbacks,\n",
        "                      validation_split=0.2,\n",
        "                    )\n",
        "  return history"
      ],
      "execution_count": null,
      "outputs": []
    },
    {
      "cell_type": "code",
      "metadata": {
        "colab": {
          "base_uri": "https://localhost:8080/"
        },
        "id": "uovi7yWAguIQ",
        "outputId": "35fed2ed-b76d-4065-897c-098f70a8bab4"
      },
      "source": [
        "history=gpu()"
      ],
      "execution_count": null,
      "outputs": [
        {
          "output_type": "stream",
          "text": [
            "Epoch 1/10\n",
            "WARNING:tensorflow:Model was constructed with shape (None, 7606) for input KerasTensor(type_spec=TensorSpec(shape=(None, 7606), dtype=tf.float32, name='embedding_1_input'), name='embedding_1_input', description=\"created by layer 'embedding_1_input'\"), but it was called on an input with incompatible shape (None, 2).\n",
            "WARNING:tensorflow:Model was constructed with shape (None, 7606) for input KerasTensor(type_spec=TensorSpec(shape=(None, 7606), dtype=tf.float32, name='embedding_1_input'), name='embedding_1_input', description=\"created by layer 'embedding_1_input'\"), but it was called on an input with incompatible shape (None, 2).\n",
            "10/10 [==============================] - ETA: 0s - loss: 13353.1641 - accuracy: 0.9000WARNING:tensorflow:Model was constructed with shape (None, 7606) for input KerasTensor(type_spec=TensorSpec(shape=(None, 7606), dtype=tf.float32, name='embedding_1_input'), name='embedding_1_input', description=\"created by layer 'embedding_1_input'\"), but it was called on an input with incompatible shape (None, 2).\n",
            "10/10 [==============================] - 5s 160ms/step - loss: 13353.1641 - accuracy: 0.9000 - val_loss: 11801.4971 - val_accuracy: 1.0000\n",
            "Epoch 2/10\n",
            "10/10 [==============================] - 1s 56ms/step - loss: 8042.9971 - accuracy: 1.0000 - val_loss: 184.7617 - val_accuracy: 1.0000\n",
            "Epoch 3/10\n",
            "10/10 [==============================] - 1s 54ms/step - loss: 24.5238 - accuracy: 1.0000 - val_loss: 2.9566 - val_accuracy: 1.0000\n",
            "Epoch 4/10\n",
            "10/10 [==============================] - 1s 54ms/step - loss: 3.6444 - accuracy: 1.0000 - val_loss: 4.6749 - val_accuracy: 1.0000\n",
            "Epoch 5/10\n",
            "10/10 [==============================] - 1s 55ms/step - loss: 5.8563 - accuracy: 1.0000 - val_loss: 7.5129 - val_accuracy: 1.0000\n",
            "Epoch 6/10\n",
            "10/10 [==============================] - 1s 54ms/step - loss: 9.2326 - accuracy: 1.0000 - val_loss: 11.5039 - val_accuracy: 1.0000\n",
            "Restoring model weights from the end of the best epoch.\n",
            "Epoch 00006: early stopping\n"
          ],
          "name": "stdout"
        }
      ]
    },
    {
      "cell_type": "markdown",
      "metadata": {
        "id": "AM4ClZY1hB5G"
      },
      "source": [
        "**Visulization**"
      ]
    },
    {
      "cell_type": "code",
      "metadata": {
        "colab": {
          "base_uri": "https://localhost:8080/",
          "height": 295
        },
        "id": "4A2SofqegpYF",
        "outputId": "8465dce8-0f58-4747-e1f8-d03586c2566e"
      },
      "source": [
        "# summarize history for accuracy\n",
        "plt.plot(history.history['accuracy'])\n",
        "plt.plot(history.history['val_accuracy'])\n",
        "plt.title('model accuracy')\n",
        "plt.ylabel('accuracy')\n",
        "plt.xlabel('epoch')\n",
        "plt.legend(['train', 'test'], loc='upper left')\n",
        "plt.show()"
      ],
      "execution_count": null,
      "outputs": [
        {
          "output_type": "display_data",
          "data": {
            "image/png": "[encoded data removed]",
            "text/plain": [
              "<Figure size 432x288 with 1 Axes>"
            ]
          },
          "metadata": {
            "tags": [],
            "needs_background": "light"
          }
        }
      ]
    },
    {
      "cell_type": "code",
      "metadata": {
        "colab": {
          "base_uri": "https://localhost:8080/",
          "height": 295
        },
        "id": "QEOHD23igrdf",
        "outputId": "d10c5f88-2a72-401d-89d0-6cd6168c92c6"
      },
      "source": [
        "# summarize history for loss\n",
        "plt.plot(history.history['loss'])\n",
        "plt.plot(history.history['val_loss'])\n",
        "plt.title('model loss')\n",
        "plt.ylabel('loss')\n",
        "plt.xlabel('epoch')\n",
        "plt.legend(['train', 'test'], loc='upper left')\n",
        "plt.show()"
      ],
      "execution_count": null,
      "outputs": [
        {
          "output_type": "display_data",
          "data": {
            "image/png": "[encoded data removed]",
            "text/plain": [
              "<Figure size 432x288 with 1 Axes>"
            ]
          },
          "metadata": {
            "tags": [],
            "needs_background": "light"
          }
        }
      ]
    },
    {
      "cell_type": "markdown",
      "metadata": {
        "id": "kP_qcYggvbFD"
      },
      "source": [
        "**DNN Model**"
      ]
    },
    {
      "cell_type": "code",
      "metadata": {
        "colab": {
          "base_uri": "https://localhost:8080/"
        },
        "id": "88Guye2Cvawz",
        "outputId": "757ae831-d791-4ea8-d4a8-edd00080ce10"
      },
      "source": [
        "model = Sequential()\n",
        "model.add(Dense(32, activation='relu', input_shape=(x_train.shape)))\n",
        "model.add(Dropout(0.3))\n",
        "model.add(Dense(64, activation='relu', kernel_regularizer=regularizers.l2(0.01)))\n",
        "model.add(Dropout(0.3))\n",
        "model.add(Dense(128, activation='relu', kernel_regularizer=regularizers.l2(0.01)))\n",
        "model.add(Dropout(0.3))\n",
        "model.add(Dense(256, activation='relu', kernel_regularizer=regularizers.l2(0.01)))\n",
        "model.add(Dropout(0.3))\n",
        "model.add(Dense(512, activation='relu', kernel_regularizer=regularizers.l2(0.01)))\n",
        "model.add(Dropout(0.3))\n",
        "model.add(Dense(total_words/2, activation='relu', kernel_regularizer=regularizers.l2(0.01)))\n",
        "model.add(Dropout(0.5))\n",
        "model.add(Dense(total_words, activation='softmax'))\n",
        "\n",
        "model.compile(loss='categorical_crossentropy', optimizer='adam', metrics=['accuracy'])\n",
        "print(model.summary())"
      ],
      "execution_count": null,
      "outputs": [
        {
          "output_type": "stream",
          "text": [
            "Model: \"sequential_3\"\n",
            "_________________________________________________________________\n",
            "Layer (type)                 Output Shape              Param #   \n",
            "=================================================================\n",
            "dense_11 (Dense)             (None, 17140, 32)         96        \n",
            "_________________________________________________________________\n",
            "dropout_10 (Dropout)         (None, 17140, 32)         0         \n",
            "_________________________________________________________________\n",
            "dense_12 (Dense)             (None, 17140, 64)         2112      \n",
            "_________________________________________________________________\n",
            "dropout_11 (Dropout)         (None, 17140, 64)         0         \n",
            "_________________________________________________________________\n",
            "dense_13 (Dense)             (None, 17140, 128)        8320      \n",
            "_________________________________________________________________\n",
            "dropout_12 (Dropout)         (None, 17140, 128)        0         \n",
            "_________________________________________________________________\n",
            "dense_14 (Dense)             (None, 17140, 256)        33024     \n",
            "_________________________________________________________________\n",
            "dropout_13 (Dropout)         (None, 17140, 256)        0         \n",
            "_________________________________________________________________\n",
            "dense_15 (Dense)             (None, 17140, 512)        131584    \n",
            "_________________________________________________________________\n",
            "dropout_14 (Dropout)         (None, 17140, 512)        0         \n",
            "_________________________________________________________________\n",
            "dense_16 (Dense)             (None, 17140, 3803)       1950939   \n",
            "_________________________________________________________________\n",
            "dropout_15 (Dropout)         (None, 17140, 3803)       0         \n",
            "_________________________________________________________________\n",
            "dense_17 (Dense)             (None, 17140, 7606)       28933224  \n",
            "=================================================================\n",
            "Total params: 31,059,299\n",
            "Trainable params: 31,059,299\n",
            "Non-trainable params: 0\n",
            "_________________________________________________________________\n",
            "None\n"
          ],
          "name": "stdout"
        }
      ]
    },
    {
      "cell_type": "code",
      "metadata": {
        "id": "etjy3nbShfMI"
      },
      "source": [
        "callbacks = tf.keras.callbacks.EarlyStopping(\n",
        "                                            # Stop training when `loss` is no longer improving\n",
        "                                            monitor='loss',\n",
        "                                            # \"no longer improving\" being further defined as \"for at least 2 epochs\"\n",
        "                                            patience=2,\n",
        "                                            restore_best_weights=True,\n",
        "                                             verbose=1)"
      ],
      "execution_count": null,
      "outputs": []
    },
    {
      "cell_type": "markdown",
      "metadata": {
        "id": "HTnbpZ4HhoxG"
      },
      "source": [
        "**Fitting the Model**"
      ]
    },
    {
      "cell_type": "code",
      "metadata": {
        "id": "gMjgyaPZhhKb"
      },
      "source": [
        "# this is the best fitting into the model.\n",
        "def gpu():\n",
        "  history = model.fit(x_train, y_train,\n",
        "                      batch_size=64,\n",
        "                      steps_per_epoch=10,\n",
        "                      epochs=10,\n",
        "                      # validation_data=(x_test, y_test),\n",
        "                      callbacks=callbacks,\n",
        "                      validation_split=0.2,\n",
        "                    )\n",
        "  return history"
      ],
      "execution_count": null,
      "outputs": []
    },
    {
      "cell_type": "code",
      "metadata": {
        "colab": {
          "base_uri": "https://localhost:8080/"
        },
        "id": "ytnZNilahijx",
        "outputId": "ac152c6a-a36b-47be-e971-3be729b0da15"
      },
      "source": [
        "history=gpu()"
      ],
      "execution_count": null,
      "outputs": [
        {
          "output_type": "stream",
          "text": [
            "Epoch 1/10\n",
            "WARNING:tensorflow:Model was constructed with shape (None, 17140, 2) for input KerasTensor(type_spec=TensorSpec(shape=(None, 17140, 2), dtype=tf.float32, name='dense_11_input'), name='dense_11_input', description=\"created by layer 'dense_11_input'\"), but it was called on an input with incompatible shape (None, 2).\n",
            "WARNING:tensorflow:Model was constructed with shape (None, 17140, 2) for input KerasTensor(type_spec=TensorSpec(shape=(None, 17140, 2), dtype=tf.float32, name='dense_11_input'), name='dense_11_input', description=\"created by layer 'dense_11_input'\"), but it was called on an input with incompatible shape (None, 2).\n",
            " 8/10 [=======================>......] - ETA: 0s - loss: 5295.8081 - accuracy: 0.8750WARNING:tensorflow:Model was constructed with shape (None, 17140, 2) for input KerasTensor(type_spec=TensorSpec(shape=(None, 17140, 2), dtype=tf.float32, name='dense_11_input'), name='dense_11_input', description=\"created by layer 'dense_11_input'\"), but it was called on an input with incompatible shape (None, 2).\n",
            "10/10 [==============================] - 1s 69ms/step - loss: 4239.8447 - accuracy: 0.9000 - val_loss: 15.9281 - val_accuracy: 1.0000\n",
            "Epoch 2/10\n",
            "10/10 [==============================] - 0s 48ms/step - loss: 16.8505 - accuracy: 1.0000 - val_loss: 18.4360 - val_accuracy: 1.0000\n",
            "Epoch 3/10\n",
            "10/10 [==============================] - 0s 48ms/step - loss: 20.5899 - accuracy: 1.0000 - val_loss: 23.9470 - val_accuracy: 1.0000\n",
            "Epoch 4/10\n",
            "10/10 [==============================] - 0s 39ms/step - loss: 27.8902 - accuracy: 1.0000 - val_loss: 33.6946 - val_accuracy: 1.0000\n",
            "Restoring model weights from the end of the best epoch.\n",
            "Epoch 00004: early stopping\n"
          ],
          "name": "stdout"
        }
      ]
    },
    {
      "cell_type": "markdown",
      "metadata": {
        "id": "LpV4vUK_h3v0"
      },
      "source": [
        "**visulization**"
      ]
    },
    {
      "cell_type": "code",
      "metadata": {
        "colab": {
          "base_uri": "https://localhost:8080/",
          "height": 295
        },
        "id": "tx_WhHxshiY8",
        "outputId": "90f6ac2f-542d-4d10-ae21-d5e171b153c7"
      },
      "source": [
        "# summarize history for accuracy\n",
        "plt.plot(history.history['accuracy'])\n",
        "plt.plot(history.history['val_accuracy'])\n",
        "plt.title('model accuracy')\n",
        "plt.ylabel('accuracy')\n",
        "plt.xlabel('epoch')\n",
        "plt.legend(['train', 'test'], loc='upper left')\n",
        "plt.show()"
      ],
      "execution_count": null,
      "outputs": [
        {
          "output_type": "display_data",
          "data": {
            "image/png": "[encoded data removed]",
            "text/plain": [
              "<Figure size 432x288 with 1 Axes>"
            ]
          },
          "metadata": {
            "tags": [],
            "needs_background": "light"
          }
        }
      ]
    },
    {
      "cell_type": "code",
      "metadata": {
        "colab": {
          "base_uri": "https://localhost:8080/",
          "height": 295
        },
        "id": "2X-8_7YGhkWH",
        "outputId": "72f146ee-fd97-49ee-e8d5-13707c2d4e62"
      },
      "source": [
        "# summarize history for loss\n",
        "plt.plot(history.history['loss'])\n",
        "plt.plot(history.history['val_loss'])\n",
        "plt.title('model loss')\n",
        "plt.ylabel('loss')\n",
        "plt.xlabel('epoch')\n",
        "plt.legend(['train', 'test'], loc='upper left')\n",
        "plt.show()"
      ],
      "execution_count": null,
      "outputs": [
        {
          "output_type": "display_data",
          "data": {
            "image/png": "[encoded data removed]",
            "text/plain": [
              "<Figure size 432x288 with 1 Axes>"
            ]
          },
          "metadata": {
            "tags": [],
            "needs_background": "light"
          }
        }
      ]
    }
  ]
}